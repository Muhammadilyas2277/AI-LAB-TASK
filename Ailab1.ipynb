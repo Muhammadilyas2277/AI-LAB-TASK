{
  "nbformat": 4,
  "nbformat_minor": 0,
  "metadata": {
    "colab": {
      "provenance": [],
      "gpuType": "T4"
    },
    "kernelspec": {
      "name": "python3",
      "display_name": "Python 3"
    },
    "language_info": {
      "name": "python"
    },
    "accelerator": "GPU"
  },
  "cells": [
    {
      "cell_type": "code",
      "execution_count": 2,
      "metadata": {
        "colab": {
          "base_uri": "https://localhost:8080/"
        },
        "id": "vDI0xv0nCxz2",
        "outputId": "dd15f1d6-2ebb-47cd-b5d3-946a33bff27f"
      },
      "outputs": [
        {
          "output_type": "stream",
          "name": "stdout",
          "text": [
            "9\n",
            "1.25\n",
            "20\n",
            "1\n"
          ]
        }
      ],
      "source": [
        "a=5;\n",
        "b=4;\n",
        "sum=a+b;\n",
        "print(sum)\n",
        "div=a/b\n",
        "print(div)\n",
        "prod=a*b\n",
        "print(prod)\n",
        "sub=a-b\n",
        "print(sub)"
      ]
    },
    {
      "cell_type": "markdown",
      "source": [],
      "metadata": {
        "id": "hM_26fB8Ev4T"
      }
    },
    {
      "cell_type": "markdown",
      "source": [
        "Muhammad ilyas\n",
        "Sp23-bcs-107\n",
        "A\n",
        "\n",
        "*   **addition**\n",
        "*  **subtraction**\n",
        "\n",
        "\n",
        "*   multiplication\n",
        "*  Division\n",
        "\n",
        "\n",
        "\n"
      ],
      "metadata": {
        "id": "rgtPUbdpEzd3"
      }
    }
  ]
}