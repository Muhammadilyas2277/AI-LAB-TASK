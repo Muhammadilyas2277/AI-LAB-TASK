{
  "nbformat": 4,
  "nbformat_minor": 0,
  "metadata": {
    "colab": {
      "provenance": []
    },
    "kernelspec": {
      "name": "python3",
      "display_name": "Python 3"
    },
    "language_info": {
      "name": "python"
    }
  },
  "cells": [
    {
      "cell_type": "markdown",
      "source": [
        "**MatplotLib:**"
      ],
      "metadata": {
        "id": "SZ8QnF3LEw6z"
      }
    },
    {
      "cell_type": "markdown",
      "source": [
        "**Numpy:**"
      ],
      "metadata": {
        "id": "2P5UggaTEygD"
      }
    },
    {
      "cell_type": "markdown",
      "source": [
        "**LIST:**"
      ],
      "metadata": {
        "id": "yiDKqjc-E0pT"
      }
    },
    {
      "cell_type": "code",
      "source": [
        "from re import L\n",
        "LIST=[1,2,3,4,5,6,7,8,9,10]\n",
        "print(LIST)\n",
        "print ('sum',sum(LIST))\n",
        "print ('max',max(LIST))\n",
        "print ('min',min(LIST))\n",
        "LIST.append (11)\n",
        "LIST.remove(2)\n",
        "print(LIST)\n"
      ],
      "metadata": {
        "colab": {
          "base_uri": "https://localhost:8080/"
        },
        "id": "pym7x0paJ0wl",
        "outputId": "d20b8644-dd71-4393-f652-21dfc07dc54b"
      },
      "execution_count": 19,
      "outputs": [
        {
          "output_type": "stream",
          "name": "stdout",
          "text": [
            "[1, 2, 3, 4, 5, 6, 7, 8, 9, 10]\n",
            "sum 55\n",
            "max 10\n",
            "min 1\n",
            "[1, 3, 4, 5, 6, 7, 8, 9, 10, 11]\n",
            "secomd element mango\n",
            "last element grape\n"
          ]
        }
      ]
    },
    {
      "cell_type": "markdown",
      "source": [
        "**Tuple**"
      ],
      "metadata": {
        "id": "Nlp2gCVfE07D"
      }
    },
    {
      "cell_type": "code",
      "source": [
        "fruits =('apple','mango','grape')\n",
        "print('secomd element',fruits[1])\n",
        "print('last element',fruits[-1])\n",
        "print('Original tuple:', fruits)\n",
        "\n",
        "fruits_list=list(fruits)\n",
        "fruits_list[2] ='orange'\n",
        "print('Modified list:',fruits_list)"
      ],
      "metadata": {
        "colab": {
          "base_uri": "https://localhost:8080/"
        },
        "collapsed": true,
        "id": "nQAXbspsPmds",
        "outputId": "f9374a0e-52ab-4d46-e71f-746b9394f136"
      },
      "execution_count": 28,
      "outputs": [
        {
          "output_type": "stream",
          "name": "stdout",
          "text": [
            "secomd element mango\n",
            "last element grape\n",
            "Original tuple: ('apple', 'mango', 'grape')\n",
            "Modified list: ['apple', 'mango', 'orange']\n"
          ]
        }
      ]
    },
    {
      "cell_type": "markdown",
      "source": [
        "**Set**"
      ],
      "metadata": {
        "id": "u5NM9tw_E1Kz"
      }
    },
    {
      "cell_type": "code",
      "source": [
        "set_odd={1,3,5,7}\n",
        "set_even={2,4,6,8}\n",
        "set_odd.add(9)\n",
        "set_odd.remove(7)\n",
        "print('union:',set_odd | set_even)\n",
        "print('intersection:',set_odd & set_even)\n",
        "print('Diffeance:',set_odd - set_even)\n",
        "\n",
        "\n"
      ],
      "metadata": {
        "colab": {
          "base_uri": "https://localhost:8080/"
        },
        "id": "RLp-FeR-UL0r",
        "outputId": "368503c9-d547-47e7-f571-84981f21f05d"
      },
      "execution_count": 32,
      "outputs": [
        {
          "output_type": "stream",
          "name": "stdout",
          "text": [
            "union: {1, 2, 3, 4, 5, 6, 8, 9}\n",
            "intersection: set()\n",
            "Diffeance: {1, 3, 5, 9}\n"
          ]
        }
      ]
    },
    {
      "cell_type": "markdown",
      "source": [
        "**Dictionery**"
      ],
      "metadata": {
        "id": "IJpZFq6KE1ar"
      }
    },
    {
      "cell_type": "code",
      "source": [
        "students = {'ali':85, 'ali': 80,'ali': 70}\n",
        "print(students)"
      ],
      "metadata": {
        "colab": {
          "base_uri": "https://localhost:8080/"
        },
        "id": "QDMQHfBMWxdL",
        "outputId": "11b622c2-b6f3-406a-e67b-384ca31a9be1"
      },
      "execution_count": 35,
      "outputs": [
        {
          "output_type": "stream",
          "name": "stdout",
          "text": [
            "{'ali': 70}\n"
          ]
        }
      ]
    },
    {
      "cell_type": "markdown",
      "source": [],
      "metadata": {
        "id": "U63BRzFsE1qz"
      }
    }
  ]
}